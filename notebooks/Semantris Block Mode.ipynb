{
 "cells": [
  {
   "cell_type": "code",
   "execution_count": 1,
   "metadata": {},
   "outputs": [],
   "source": [
    "import random"
   ]
  },
  {
   "cell_type": "code",
   "execution_count": 2,
   "metadata": {},
   "outputs": [],
   "source": [
    "import cv2"
   ]
  },
  {
   "cell_type": "code",
   "execution_count": 3,
   "metadata": {},
   "outputs": [],
   "source": [
    "import time"
   ]
  },
  {
   "cell_type": "code",
   "execution_count": 4,
   "metadata": {},
   "outputs": [],
   "source": [
    "import pyautogui"
   ]
  },
  {
   "cell_type": "code",
   "execution_count": 5,
   "metadata": {},
   "outputs": [],
   "source": [
    "import numpy as np"
   ]
  },
  {
   "cell_type": "code",
   "execution_count": 6,
   "metadata": {},
   "outputs": [],
   "source": [
    "import matplotlib.pyplot as plt"
   ]
  },
  {
   "cell_type": "code",
   "execution_count": 7,
   "metadata": {},
   "outputs": [],
   "source": [
    "%matplotlib inline"
   ]
  },
  {
   "cell_type": "code",
   "execution_count": 8,
   "metadata": {},
   "outputs": [],
   "source": [
    "import pytesseract"
   ]
  },
  {
   "cell_type": "markdown",
   "metadata": {},
   "source": [
    "# Utility functions"
   ]
  },
  {
   "cell_type": "code",
   "execution_count": 9,
   "metadata": {},
   "outputs": [],
   "source": [
    "def take_screen_shot(region=None):\n",
    "    \"\"\"\n",
    "    region: four-integer tuple of the left, top,\n",
    "    width, and height of the region to capture\n",
    "    \"\"\"\n",
    "    \n",
    "    print('Waiting 5 seconds before screen shot')\n",
    "    print('Please change the browser window to semantris blocks mode')\n",
    "    time.sleep(5)\n",
    "    \n",
    "    return pyautogui.screenshot(region=region)"
   ]
  },
  {
   "cell_type": "code",
   "execution_count": 10,
   "metadata": {},
   "outputs": [],
   "source": [
    "FIGSIZE = (6,6)\n",
    "def plot_img(arr, fs=FIGSIZE, cmap='gray', title=None):\n",
    "    plt.figure(figsize=fs)\n",
    "    plt.imshow(arr, cmap=cmap)\n",
    "    plt.title(title)\n",
    "    plt.show()"
   ]
  },
  {
   "cell_type": "code",
   "execution_count": 11,
   "metadata": {},
   "outputs": [],
   "source": [
    "def bgr_to_hsv_value(color):\n",
    "    \"\"\"\n",
    "    Convert a list of BGR color to HSV list\n",
    "    \"\"\"\n",
    "    \n",
    "    c = np.uint8([[color]])\n",
    "    hsv = cv2.cvtColor(c, cv2.COLOR_BGR2HSV)\n",
    "    \n",
    "    return hsv[0][0]"
   ]
  },
  {
   "cell_type": "code",
   "execution_count": 12,
   "metadata": {},
   "outputs": [],
   "source": [
    "\"\"\"\n",
    "Improvised from the following stackoverflow answer\n",
    "https://stackoverflow.com/a/48738145/2947248\n",
    "\"\"\"\n",
    "\n",
    "import cv2\n",
    "import numpy as np\n",
    "from IPython.display import clear_output, Image, display\n",
    "from io import StringIO, BytesIO\n",
    "import PIL.Image\n",
    "\n",
    "def showarray(a, fmt='png'):\n",
    "    a = np.uint8(np.clip(a, 0, 255))\n",
    "    f = BytesIO()\n",
    "    PIL.Image.fromarray(a).save(f, fmt)\n",
    "    display(Image(data=f.getvalue()))"
   ]
  },
  {
   "cell_type": "code",
   "execution_count": 13,
   "metadata": {},
   "outputs": [],
   "source": [
    "\"\"\"\n",
    "Referred from https://code.likeagirl.io/finding-dominant-colour-on-an-image-b4e075f98097\n",
    "\"\"\"\n",
    "\n",
    "def find_histogram(clt):\n",
    "    \"\"\"\n",
    "    create a histogram with k clusters\n",
    "    :param: clt\n",
    "    :return:hist\n",
    "    \"\"\"\n",
    "    numLabels = np.arange(0, len(np.unique(clt.labels_)) + 1)\n",
    "    (hist, _) = np.histogram(clt.labels_, bins=numLabels)\n",
    "\n",
    "    hist = hist.astype(\"float\")\n",
    "    hist /= hist.sum()\n",
    "\n",
    "    return hist\n",
    "\n",
    "def plot_colors2(hist, centroids):\n",
    "    bar = np.zeros((50, 300, 3), dtype=\"uint8\")\n",
    "    startX = 0\n",
    "\n",
    "    for (percent, color) in zip(hist, centroids):\n",
    "        # plot the relative percentage of each cluster\n",
    "        endX = startX + (percent * 300)\n",
    "        cv2.rectangle(bar, (int(startX), 0), (int(endX), 50),\n",
    "                      color.astype(\"uint8\").tolist(), -1)\n",
    "        startX = endX\n",
    "\n",
    "    # return the bar chart\n",
    "    return bar"
   ]
  },
  {
   "cell_type": "code",
   "execution_count": 14,
   "metadata": {},
   "outputs": [],
   "source": [
    "def is_blocks_background_color(r, g, b, area):\n",
    "    # list of background colors in blocks mode\n",
    "    blocks_background_colors_hs = [\n",
    "        [132, 8],\n",
    "        [128, 5]\n",
    "    ]\n",
    "    \n",
    "    color_hsv = bgr_to_hsv_value([b, g, r]).tolist()\n",
    "    if area > 0.2 or color_hsv[:2] in blocks_background_colors_hs:\n",
    "        return True\n",
    "    \n",
    "    return False"
   ]
  },
  {
   "cell_type": "markdown",
   "metadata": {},
   "source": [
    "# Screen Processing"
   ]
  },
  {
   "cell_type": "code",
   "execution_count": 15,
   "metadata": {},
   "outputs": [
    {
     "name": "stdout",
     "output_type": "stream",
     "text": [
      "Waiting 5 seconds before screen shot\n",
      "Please change the browser window to semantris blocks mode\n"
     ]
    },
    {
     "data": {
      "image/png": "[encoded data removed]",
      "text/plain": [
       "<Figure size 432x432 with 1 Axes>"
      ]
     },
     "metadata": {
      "needs_background": "light"
     },
     "output_type": "display_data"
    }
   ],
   "source": [
    "screen = take_screen_shot()\n",
    "plot_img(screen)"
   ]
  },
  {
   "cell_type": "markdown",
   "metadata": {},
   "source": [
    "### Crop screenshot"
   ]
  },
  {
   "cell_type": "code",
   "execution_count": 16,
   "metadata": {},
   "outputs": [
    {
     "name": "stdout",
     "output_type": "stream",
     "text": [
      "Waiting 5 seconds before screen shot\n",
      "Please change the browser window to semantris blocks mode\n"
     ]
    },
    {
     "data": {
      "image/png": "[encoded data removed]",
      "text/plain": [
       "<Figure size 432x432 with 1 Axes>"
      ]
     },
     "metadata": {
      "needs_background": "light"
     },
     "output_type": "display_data"
    }
   ],
   "source": [
    "# region: four-integer tuple of the left, top\n",
    "# width, and height of the region to capture\n",
    "# for my system the screen is 1440 x 900\n",
    "screen = take_screen_shot(region=(200, 100, 1000, 700))\n",
    "plot_img(screen)"
   ]
  },
  {
   "cell_type": "markdown",
   "metadata": {},
   "source": [
    "### Color palette detection"
   ]
  },
  {
   "cell_type": "code",
   "execution_count": 17,
   "metadata": {},
   "outputs": [],
   "source": [
    "# cut screen into half (horizontal)\n",
    "screen_frame = np.array(screen)\n",
    "screen_frame = screen_frame[int(screen_frame.shape[0] / 2):]\n",
    "\n",
    "# convert and reshape image format\n",
    "screen_frame = cv2.cvtColor(screen_frame, cv2.COLOR_RGB2BGR)\n",
    "screen_frame = cv2.cvtColor(screen_frame, cv2.COLOR_BGR2RGB)\n",
    "screen_frame = screen_frame.reshape((screen_frame.shape[0] * screen_frame.shape[1],3))"
   ]
  },
  {
   "cell_type": "code",
   "execution_count": 18,
   "metadata": {},
   "outputs": [
    {
     "data": {
      "text/plain": [
       "KMeans(algorithm='auto', copy_x=True, init='k-means++', max_iter=300,\n",
       "    n_clusters=8, n_init=10, n_jobs=None, precompute_distances='auto',\n",
       "    random_state=None, tol=0.0001, verbose=0)"
      ]
     },
     "execution_count": 18,
     "metadata": {},
     "output_type": "execute_result"
    }
   ],
   "source": [
    "# Collect 8 major colors in the image using KMeans clustering \n",
    "from sklearn.cluster import KMeans\n",
    "clt = KMeans(n_clusters=8)\n",
    "clt.fit(screen_frame)"
   ]
  },
  {
   "cell_type": "code",
   "execution_count": 19,
   "metadata": {},
   "outputs": [
    {
     "data": {
      "image/png": "[encoded data removed]",
      "text/plain": [
       "<Figure size 432x288 with 1 Axes>"
      ]
     },
     "metadata": {
      "needs_background": "light"
     },
     "output_type": "display_data"
    }
   ],
   "source": [
    "# histogram representing area proportion for each color\n",
    "hist = find_histogram(clt)\n",
    "block_colors = []\n",
    "\n",
    "# plot all 8 colors\n",
    "bar = plot_colors2(hist, clt.cluster_centers_)\n",
    "plt.imshow(bar)\n",
    "plt.show()\n",
    "\n",
    "# filter out persistent colors from game background\n",
    "for i, rgb in enumerate(clt.cluster_centers_):\n",
    "    if not is_blocks_background_color(*rgb, hist[i]):\n",
    "        block_colors.append(rgb)\n",
    "        \n",
    "# plot word block colors\n",
    "bar = plot_colors2([0.25] * 4, block_colors)"
   ]
  },
  {
   "cell_type": "markdown",
   "metadata": {},
   "source": [
    "All the 8 (K=8) colors detected in the image.\n",
    "\n",
    "Based on different characteristics, we will filter out the persistent colors used in the game background. (refer: is_blocks_background_color)"
   ]
  },
  {
   "cell_type": "code",
   "execution_count": 20,
   "metadata": {},
   "outputs": [
    {
     "data": {
      "image/png": "[encoded data removed]",
      "text/plain": [
       "<Figure size 432x288 with 1 Axes>"
      ]
     },
     "metadata": {
      "needs_background": "light"
     },
     "output_type": "display_data"
    }
   ],
   "source": [
    "plt.imshow(bar)\n",
    "plt.show()"
   ]
  },
  {
   "cell_type": "markdown",
   "metadata": {},
   "source": [
    "Color palette representing 4 major block colors used in the game theme."
   ]
  },
  {
   "cell_type": "markdown",
   "metadata": {},
   "source": [
    "### Color tracking"
   ]
  },
  {
   "cell_type": "code",
   "execution_count": 48,
   "metadata": {},
   "outputs": [],
   "source": [
    "frame = np.array(screen)\n",
    "\n",
    "# Convert RGB to HSV\n",
    "hsv = cv2.cvtColor(frame, cv2.COLOR_RGB2HSV)\n",
    "\n",
    "# index of block color to track (random among all 4)\n",
    "block_color_index = random.randint(0, 3)\n",
    "\n",
    "# define range of a color to track a block color in HSV\n",
    "block_color_hue = bgr_to_hsv_value(block_colors[block_color_index][::-1])[0]\n",
    "lower_color_range = np.array([block_color_hue - 10, 50, 50])\n",
    "upper_color_range = np.array([block_color_hue + 10, 255, 255])\n",
    "\n",
    "# threshold the HSV image to get only blue colors\n",
    "mask_color_range = cv2.inRange(hsv, lower_color_range, upper_color_range)\n",
    "\n",
    "\"\"\"\n",
    "To track multiple colors, you can bitwise-OR\n",
    "two images with different colors\n",
    "\n",
    "res = cv2.bitwise_or(res_blue, res_purple)\n",
    "\"\"\"\n",
    "\n",
    "# Bitwise-AND mask and original images\n",
    "colored_res = cv2.bitwise_and(frame, frame, mask= mask_color_range)"
   ]
  },
  {
   "cell_type": "code",
   "execution_count": 49,
   "metadata": {},
   "outputs": [
    {
     "data": {
      "image/png": "[encoded data removed]",
      "text/plain": [
       "<IPython.core.display.Image object>"
      ]
     },
     "metadata": {},
     "output_type": "display_data"
    }
   ],
   "source": [
    "showarray(colored_res)"
   ]
  },
  {
   "cell_type": "markdown",
   "metadata": {},
   "source": [
    "### Contour detection"
   ]
  },
  {
   "cell_type": "code",
   "execution_count": 60,
   "metadata": {},
   "outputs": [
    {
     "data": {
      "image/png": "[encoded data removed]",
      "text/plain": [
       "<IPython.core.display.Image object>"
      ]
     },
     "metadata": {},
     "output_type": "display_data"
    }
   ],
   "source": [
    "# grayscale conversion\n",
    "imgray = cv2.cvtColor(colored_res, cv2.COLOR_RGB2GRAY)\n",
    "showarray(imgray)"
   ]
  },
  {
   "cell_type": "code",
   "execution_count": 62,
   "metadata": {
    "scrolled": false
   },
   "outputs": [
    {
     "data": {
      "image/png": "[encoded data removed]",
      "text/plain": [
       "<IPython.core.display.Image object>"
      ]
     },
     "metadata": {},
     "output_type": "display_data"
    }
   ],
   "source": [
    "# bilateral filter is effective when you want to\n",
    "# keep the edges sharp while removing noise\n",
    "imgray = cv2.bilateralFilter(imgray, 10, 50, 50)\n",
    "showarray(imgray)"
   ]
  },
  {
   "cell_type": "code",
   "execution_count": 63,
   "metadata": {},
   "outputs": [],
   "source": [
    "# find contour in gray scale image\n",
    "_, thresh = cv2.threshold(imgray, 75, 255, 0)\n",
    "thresh = cv2.erode(thresh, None, iterations=2)\n",
    "thresh = cv2.dilate(thresh, None, iterations=2)\n",
    "\n",
    "im2, contours, hierarchy = cv2.findContours(thresh, cv2.RETR_EXTERNAL, cv2.CHAIN_APPROX_SIMPLE)"
   ]
  },
  {
   "cell_type": "code",
   "execution_count": 64,
   "metadata": {},
   "outputs": [
    {
     "data": {
      "text/plain": [
       "3"
      ]
     },
     "execution_count": 64,
     "metadata": {},
     "output_type": "execute_result"
    }
   ],
   "source": [
    "# no of contours found in the image\n",
    "# word-rectangles attached to each other results in the same contour\n",
    "len(contours)"
   ]
  },
  {
   "cell_type": "code",
   "execution_count": 65,
   "metadata": {},
   "outputs": [
    {
     "name": "stdout",
     "output_type": "stream",
     "text": [
      "perimeter 398.28427052497864\n",
      "area 7786.0\n",
      "perimeter 517.9827548265457\n",
      "area 11559.5\n",
      "perimeter 398.28427052497864\n",
      "area 7786.0\n"
     ]
    }
   ],
   "source": [
    "# finding contour with maximum area\n",
    "max_area_contour_index = 0\n",
    "max_area_contour = 0\n",
    "\n",
    "for i, contour in enumerate(contours):\n",
    "    rect = cv2.minAreaRect(contour)\n",
    "    box = cv2.boxPoints(rect)\n",
    "    box = np.int0(box)\n",
    "    imgray = cv2.drawContours(imgray, [box], 0, (0,255,0), 10)\n",
    "    \n",
    "    print('perimeter', cv2.arcLength(contour, True))\n",
    "    area = cv2.contourArea(contour)\n",
    "    print('area', area)\n",
    "    \n",
    "    if cv2.contourArea(contour) >= max_area_contour:\n",
    "        max_area_contour = area\n",
    "        max_area_contour_index = i"
   ]
  },
  {
   "cell_type": "code",
   "execution_count": 66,
   "metadata": {},
   "outputs": [
    {
     "data": {
      "text/plain": [
       "(1, 11559.5)"
      ]
     },
     "execution_count": 66,
     "metadata": {},
     "output_type": "execute_result"
    }
   ],
   "source": [
    "max_area_contour_index, max_area_contour"
   ]
  },
  {
   "cell_type": "code",
   "execution_count": 67,
   "metadata": {},
   "outputs": [
    {
     "data": {
      "image/png": "[encoded data removed]",
      "text/plain": [
       "<IPython.core.display.Image object>"
      ]
     },
     "metadata": {},
     "output_type": "display_data"
    }
   ],
   "source": [
    "# mask out the image with maximum area contour\n",
    "mask_contour = np.zeros(imgray.shape[:2], np.uint8)\n",
    "cv2.drawContours(mask_contour, [contours[max_area_contour_index]],-1, 255, -1)\n",
    "max_area_contour_image = cv2.bitwise_and(colored_res, colored_res, mask=mask_contour)\n",
    "showarray(max_area_contour_image)"
   ]
  },
  {
   "cell_type": "code",
   "execution_count": 68,
   "metadata": {},
   "outputs": [
    {
     "data": {
      "image/png": "[encoded data removed]",
      "text/plain": [
       "<IPython.core.display.Image object>"
      ]
     },
     "metadata": {},
     "output_type": "display_data"
    }
   ],
   "source": [
    "max_area_contour_image_gray = cv2.cvtColor(max_area_contour_image, cv2.COLOR_RGB2GRAY)\n",
    "(_, max_area_contour_image_bw) = cv2.threshold(\n",
    "    max_area_contour_image_gray, 128, 255, cv2.THRESH_BINARY | cv2.THRESH_OTSU\n",
    ")\n",
    "showarray(max_area_contour_image_bw)"
   ]
  },
  {
   "cell_type": "code",
   "execution_count": 69,
   "metadata": {},
   "outputs": [
    {
     "data": {
      "image/png": "[encoded data removed]",
      "text/plain": [
       "<IPython.core.display.Image object>"
      ]
     },
     "metadata": {},
     "output_type": "display_data"
    }
   ],
   "source": [
    "max_area_contour_image_bw_inverted = cv2.bitwise_not(max_area_contour_image_bw)\n",
    "showarray(max_area_contour_image_bw_inverted)"
   ]
  },
  {
   "cell_type": "code",
   "execution_count": 70,
   "metadata": {},
   "outputs": [
    {
     "data": {
      "text/plain": [
       "'Eye'"
      ]
     },
     "execution_count": 70,
     "metadata": {},
     "output_type": "execute_result"
    }
   ],
   "source": [
    "# Process the contour difference image through OCR/tesseract\n",
    "pytesseract.image_to_string((max_area_contour_image_bw_inverted - cv2.bitwise_not(mask_contour)))"
   ]
  },
  {
   "cell_type": "code",
   "execution_count": null,
   "metadata": {},
   "outputs": [],
   "source": []
  }
 ],
 "metadata": {
  "kernelspec": {
   "display_name": "Python 3",
   "language": "python",
   "name": "python3"
  },
  "language_info": {
   "codemirror_mode": {
    "name": "ipython",
    "version": 3
   },
   "file_extension": ".py",
   "mimetype": "text/x-python",
   "name": "python",
   "nbconvert_exporter": "python",
   "pygments_lexer": "ipython3",
   "version": "3.7.0"
  }
 },
 "nbformat": 4,
 "nbformat_minor": 2
}
